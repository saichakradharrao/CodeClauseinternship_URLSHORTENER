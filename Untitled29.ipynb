{
 "cells": [
  {
   "cell_type": "code",
   "execution_count": null,
   "id": "1ce78e41",
   "metadata": {},
   "outputs": [],
   "source": [
    "import pyshorteners\n",
    "\n",
    "long_url = input(\"enter the URL\")\n",
    "\n",
    "def short_url(url):\n",
    "\n",
    "    type_tiny = pyshorteners.Shortener()\n",
    "\n",
    "    short_url = type_tiny.tinyurl.short(url)\n",
    "\n",
    "    return short_url\n",
    "\n",
    "shortened_url=short_url(long_url)\n",
    "\n",
    "\n",
    "print(\"The Shortened URL is: \"+shortened_url)"
   ]
  }
 ],
 "metadata": {
  "kernelspec": {
   "display_name": "Python 3 (ipykernel)",
   "language": "python",
   "name": "python3"
  },
  "language_info": {
   "codemirror_mode": {
    "name": "ipython",
    "version": 3
   },
   "file_extension": ".py",
   "mimetype": "text/x-python",
   "name": "python",
   "nbconvert_exporter": "python",
   "pygments_lexer": "ipython3",
   "version": "3.10.9"
  }
 },
 "nbformat": 4,
 "nbformat_minor": 5
}
